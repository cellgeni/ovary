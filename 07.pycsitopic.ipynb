{
 "cells": [
  {
   "cell_type": "code",
   "execution_count": 1,
   "id": "58383739-984d-4a92-8778-3a0cbe89c93a",
   "metadata": {},
   "outputs": [
    {
     "name": "stderr",
     "output_type": "stream",
     "text": [
      "/env/lib/python3.11/site-packages/tqdm/auto.py:21: TqdmWarning: IProgress not found. Please update jupyter and ipywidgets. See https://ipywidgets.readthedocs.io/en/stable/user_install.html\n",
      "  from .autonotebook import tqdm as notebook_tqdm\n",
      "2025-05-19 14:33:53,877\tINFO util.py:154 -- Missing packages: ['ipywidgets']. Run `pip install -U ipywidgets`, then restart the notebook server for rich notebook output.\n"
     ]
    }
   ],
   "source": [
    "import pycisTopic\n",
    "import dill\n",
    "from pycisTopic.diff_features import (\n",
    "    impute_accessibility,\n",
    "    normalize_scores,\n",
    "    find_highly_variable_features,\n",
    "    find_diff_features\n",
    ")\n",
    "import numpy as np\n",
    "\n",
    "from pycisTopic.clust_vis import (\n",
    "    find_clusters,\n",
    "    run_umap,\n",
    "    run_tsne,\n",
    "    plot_metadata,\n",
    "    plot_topic,\n",
    "    cell_topic_heatmap\n",
    ")\n",
    "import os"
   ]
  },
  {
   "cell_type": "code",
   "execution_count": 2,
   "id": "b26f79aa-2a1e-4d50-994e-2e22920102ad",
   "metadata": {},
   "outputs": [
    {
     "data": {
      "text/plain": [
       "<pycisTopic.cistopic_class.CistopicObject at 0x151f51dad550>"
      ]
     },
     "execution_count": 2,
     "metadata": {},
     "output_type": "execute_result"
    }
   ],
   "source": [
    "with open(\"../../data.lustre/atac/pycistopic/combined_cistopic_object.pkl\", \"rb\") as f:\n",
    "    cistopic = dill.load(f)\n",
    "cistopic"
   ]
  },
  {
   "cell_type": "code",
   "execution_count": 3,
   "id": "1d50940c-bd45-4b88-bb2f-2f4cac4ec900",
   "metadata": {},
   "outputs": [
    {
     "name": "stdout",
     "output_type": "stream",
     "text": [
      "CistopicObject from project cisTopic_merge with n_cells × n_regions = 144077 × 662945\n"
     ]
    }
   ],
   "source": [
    "print(cistopic)"
   ]
  },
  {
   "cell_type": "code",
   "execution_count": null,
   "id": "93cabd1f-2cce-482d-a223-a8b14c030368",
   "metadata": {},
   "outputs": [
    {
     "name": "stdout",
     "output_type": "stream",
     "text": [
      "2025-05-19 14:35:05,513 cisTopic     INFO     Formatting input to corpus\n",
      "2025-05-19 14:35:48,093 cisTopic     INFO     Running model with 2 topics\n",
      "2025-05-19 14:35:48,097 LDAMalletWrapper INFO     Serializing temporary corpus to /lustre/scratch127/cellgen/cellgeni/pasham/data/2504.ovary_atac/atac/mallet/corpus.txt\n",
      "2025-05-19 14:51:01,567 LDAMalletWrapper INFO     Converting temporary corpus to MALLET format with: /opt/Mallet/bin/mallet import-file --preserve-case --keep-sequence --token-regex \\S+ --input /lustre/scratch127/cellgen/cellgeni/pasham/data/2504.ovary_atac/atac/mallet/corpus.txt --output /lustre/scratch127/cellgen/cellgeni/pasham/data/2504.ovary_atac/atac/mallet/corpus.mallet\n",
      "2025-05-19 15:09:40,764 LDAMalletWrapper INFO     Training MALLET LDA with: /opt/Mallet/bin/mallet train-topics --input /lustre/scratch127/cellgen/cellgeni/pasham/data/2504.ovary_atac/atac/mallet/corpus.mallet --num-topics 2 --alpha 50 --beta 0.1 --optimize-interval 0 --num-threads 16 --output-state /lustre/scratch127/cellgen/cellgeni/pasham/data/2504.ovary_atac/atac/mallet/215e01_state.mallet.gz --output-doc-topics /lustre/scratch127/cellgen/cellgeni/pasham/data/2504.ovary_atac/atac/mallet/215e01_doctopics.txt --output-topic-keys /lustre/scratch127/cellgen/cellgeni/pasham/data/2504.ovary_atac/atac/mallet/215e01_topickeys.txt --num-iterations 500 --inferencer-filename /lustre/scratch127/cellgen/cellgeni/pasham/data/2504.ovary_atac/atac/mallet/215e01_inferencer.mallet --doc-topics-threshold 0.0 --random-seed 555\n"
     ]
    }
   ],
   "source": [
    "os.environ['MALLET_MEMORY'] = '200G'\n",
    "from pycisTopic.lda_models import run_cgs_models_mallet\n",
    "# Configure path Mallet\n",
    "mallet_path=\"/opt/Mallet/bin/mallet\"\n",
    "tmp_path = '/lustre/scratch127/cellgen/cellgeni/pasham/data/2504.ovary_atac/atac/mallet'\n",
    "# Run models\n",
    "models=run_cgs_models_mallet(\n",
    "    cistopic,\n",
    "    n_topics=[2, 5, 10, 15, 20, 25, 30, 35, 40, 45, 50],\n",
    "    n_cpu=16,\n",
    "    n_iter=500,\n",
    "    random_state=555,\n",
    "    alpha=50,\n",
    "    alpha_by_topic=True,\n",
    "    eta=0.1,\n",
    "    eta_by_topic=False,\n",
    "    tmp_path=tmp_path,\n",
    "    save_path=tmp_path,\n",
    "    mallet_path=mallet_path,\n",
    ")"
   ]
  },
  {
   "cell_type": "code",
   "execution_count": null,
   "id": "0d3ebcd9-fa6b-46c1-ba99-134a7fc550ed",
   "metadata": {},
   "outputs": [],
   "source": [
    "run_umap(\n",
    "    cistopic,\n",
    "    target  = 'cell', scale=True)"
   ]
  },
  {
   "cell_type": "code",
   "execution_count": 10,
   "id": "e04d9c4b-21e3-4e7b-bd74-6d05fe272deb",
   "metadata": {},
   "outputs": [
    {
     "name": "stdout",
     "output_type": "stream",
     "text": [
      "2025-05-19 14:18:28,023 cisTopic     INFO     Normalizing imputed data\n",
      "2025-05-19 14:18:28,025 cisTopic     INFO     Done!\n"
     ]
    },
    {
     "ename": "UnboundLocalError",
     "evalue": "cannot access local variable 'output' where it is not associated with a value",
     "output_type": "error",
     "traceback": [
      "\u001b[0;31m---------------------------------------------------------------------------\u001b[0m",
      "\u001b[0;31mUnboundLocalError\u001b[0m                         Traceback (most recent call last)",
      "Cell \u001b[0;32mIn[10], line 1\u001b[0m\n\u001b[0;32m----> 1\u001b[0m normalized_imputed_acc_obj \u001b[38;5;241m=\u001b[39m \u001b[43mnormalize_scores\u001b[49m\u001b[43m(\u001b[49m\u001b[43mcistopic\u001b[49m\u001b[43m,\u001b[49m\u001b[43m \u001b[49m\u001b[43mscale_factor\u001b[49m\u001b[38;5;241;43m=\u001b[39;49m\u001b[38;5;241;43m10\u001b[39;49m\u001b[38;5;241;43m*\u001b[39;49m\u001b[38;5;241;43m*\u001b[39;49m\u001b[38;5;241;43m4\u001b[39;49m\u001b[43m)\u001b[49m\n",
      "File \u001b[0;32m/env/lib/python3.11/site-packages/pycisTopic/diff_features.py:574\u001b[0m, in \u001b[0;36mnormalize_scores\u001b[0;34m(imputed_acc, scale_factor)\u001b[0m\n\u001b[1;32m    565\u001b[0m     output \u001b[38;5;241m=\u001b[39m pd\u001b[38;5;241m.\u001b[39mDataFrame(\n\u001b[1;32m    566\u001b[0m         calculate_normalized_scores(\n\u001b[1;32m    567\u001b[0m             imputed_acc\u001b[38;5;241m=\u001b[39mimputed_acc\u001b[38;5;241m.\u001b[39mto_numpy(),\n\u001b[0;32m   (...)\u001b[0m\n\u001b[1;32m    571\u001b[0m         columns\u001b[38;5;241m=\u001b[39mimputed_acc\u001b[38;5;241m.\u001b[39mcolumns,\n\u001b[1;32m    572\u001b[0m     )\n\u001b[1;32m    573\u001b[0m log\u001b[38;5;241m.\u001b[39minfo(\u001b[38;5;124m\"\u001b[39m\u001b[38;5;124mDone!\u001b[39m\u001b[38;5;124m\"\u001b[39m)\n\u001b[0;32m--> 574\u001b[0m \u001b[38;5;28;01mreturn\u001b[39;00m \u001b[43moutput\u001b[49m\n",
      "\u001b[0;31mUnboundLocalError\u001b[0m: cannot access local variable 'output' where it is not associated with a value"
     ]
    }
   ],
   "source": [
    "normalized_imputed_acc_obj = normalize_scores(cistopic, scale_factor=10**4)"
   ]
  },
  {
   "cell_type": "code",
   "execution_count": 6,
   "id": "1a02394c-84ed-4ded-a818-bdb6aa116c9d",
   "metadata": {},
   "outputs": [
    {
     "ename": "AttributeError",
     "evalue": "'CistopicObject' object has no attribute 'mtx'",
     "output_type": "error",
     "traceback": [
      "\u001b[0;31m---------------------------------------------------------------------------\u001b[0m",
      "\u001b[0;31mAttributeError\u001b[0m                            Traceback (most recent call last)",
      "Cell \u001b[0;32mIn[6], line 1\u001b[0m\n\u001b[0;32m----> 1\u001b[0m variable_regions \u001b[38;5;241m=\u001b[39m \u001b[43mfind_highly_variable_features\u001b[49m\u001b[43m(\u001b[49m\n\u001b[1;32m      2\u001b[0m \u001b[43m    \u001b[49m\u001b[43mcistopic\u001b[49m\u001b[43m,\u001b[49m\n\u001b[1;32m      3\u001b[0m \u001b[43m    \u001b[49m\u001b[43mmin_disp\u001b[49m\u001b[43m \u001b[49m\u001b[38;5;241;43m=\u001b[39;49m\u001b[43m \u001b[49m\u001b[38;5;241;43m0.05\u001b[39;49m\u001b[43m,\u001b[49m\n\u001b[1;32m      4\u001b[0m \u001b[43m    \u001b[49m\u001b[43mmin_mean\u001b[49m\u001b[43m \u001b[49m\u001b[38;5;241;43m=\u001b[39;49m\u001b[43m \u001b[49m\u001b[38;5;241;43m0.0125\u001b[39;49m\u001b[43m,\u001b[49m\n\u001b[1;32m      5\u001b[0m \u001b[43m    \u001b[49m\u001b[43mmax_mean\u001b[49m\u001b[43m \u001b[49m\u001b[38;5;241;43m=\u001b[39;49m\u001b[43m \u001b[49m\u001b[38;5;241;43m3\u001b[39;49m\u001b[43m,\u001b[49m\n\u001b[1;32m      6\u001b[0m \u001b[43m    \u001b[49m\u001b[43mmax_disp\u001b[49m\u001b[43m \u001b[49m\u001b[38;5;241;43m=\u001b[39;49m\u001b[43m \u001b[49m\u001b[43mnp\u001b[49m\u001b[38;5;241;43m.\u001b[39;49m\u001b[43minf\u001b[49m\u001b[43m,\u001b[49m\n\u001b[1;32m      7\u001b[0m \u001b[43m    \u001b[49m\u001b[43mn_bins\u001b[49m\u001b[38;5;241;43m=\u001b[39;49m\u001b[38;5;241;43m20\u001b[39;49m\u001b[43m,\u001b[49m\n\u001b[1;32m      8\u001b[0m \u001b[43m    \u001b[49m\u001b[43mn_top_features\u001b[49m\u001b[38;5;241;43m=\u001b[39;49m\u001b[38;5;28;43;01mNone\u001b[39;49;00m\u001b[43m,\u001b[49m\n\u001b[1;32m      9\u001b[0m \u001b[43m    \u001b[49m\u001b[43mplot\u001b[49m\u001b[38;5;241;43m=\u001b[39;49m\u001b[38;5;28;43;01mTrue\u001b[39;49;00m\n\u001b[1;32m     10\u001b[0m \u001b[43m)\u001b[49m\n",
      "File \u001b[0;32m/env/lib/python3.11/site-packages/pycisTopic/diff_features.py:629\u001b[0m, in \u001b[0;36mfind_highly_variable_features\u001b[0;34m(input_mat, min_disp, min_mean, max_disp, max_mean, n_bins, n_top_features, plot, save)\u001b[0m\n\u001b[1;32m    627\u001b[0m     features \u001b[38;5;241m=\u001b[39m input_mat\u001b[38;5;241m.\u001b[39mindex\u001b[38;5;241m.\u001b[39mtolist()\n\u001b[1;32m    628\u001b[0m \u001b[38;5;28;01melse\u001b[39;00m:\n\u001b[0;32m--> 629\u001b[0m     mat \u001b[38;5;241m=\u001b[39m \u001b[43minput_mat\u001b[49m\u001b[38;5;241;43m.\u001b[39;49m\u001b[43mmtx\u001b[49m\n\u001b[1;32m    630\u001b[0m     features \u001b[38;5;241m=\u001b[39m input_mat\u001b[38;5;241m.\u001b[39mfeature_names\n\u001b[1;32m    632\u001b[0m \u001b[38;5;28;01mif\u001b[39;00m sparse\u001b[38;5;241m.\u001b[39missparse(mat):\n",
      "\u001b[0;31mAttributeError\u001b[0m: 'CistopicObject' object has no attribute 'mtx'"
     ]
    }
   ],
   "source": [
    "variable_regions = find_highly_variable_features(\n",
    "    cistopic,\n",
    "    min_disp = 0.05,\n",
    "    min_mean = 0.0125,\n",
    "    max_mean = 3,\n",
    "    max_disp = np.inf,\n",
    "    n_bins=20,\n",
    "    n_top_features=None,\n",
    "    plot=True\n",
    ")"
   ]
  },
  {
   "cell_type": "code",
   "execution_count": 9,
   "id": "d22c327c-070f-4cfe-b651-99de676c7005",
   "metadata": {},
   "outputs": [
    {
     "ename": "AttributeError",
     "evalue": "'CistopicObject' object has no attribute 'mtx'",
     "output_type": "error",
     "traceback": [
      "\u001b[0;31m---------------------------------------------------------------------------\u001b[0m",
      "\u001b[0;31mAttributeError\u001b[0m                            Traceback (most recent call last)",
      "Cell \u001b[0;32mIn[9], line 1\u001b[0m\n\u001b[0;32m----> 1\u001b[0m \u001b[43mcistopic\u001b[49m\u001b[38;5;241;43m.\u001b[39;49m\u001b[43mmtx\u001b[49m\n",
      "\u001b[0;31mAttributeError\u001b[0m: 'CistopicObject' object has no attribute 'mtx'"
     ]
    }
   ],
   "source": [
    "cistopic.mtx"
   ]
  }
 ],
 "metadata": {
  "kernelspec": {
   "display_name": "Python 3 (ipykernel)",
   "language": "python",
   "name": "python3"
  },
  "language_info": {
   "codemirror_mode": {
    "name": "ipython",
    "version": 3
   },
   "file_extension": ".py",
   "mimetype": "text/x-python",
   "name": "python",
   "nbconvert_exporter": "python",
   "pygments_lexer": "ipython3",
   "version": "3.11.9"
  }
 },
 "nbformat": 4,
 "nbformat_minor": 5
}
