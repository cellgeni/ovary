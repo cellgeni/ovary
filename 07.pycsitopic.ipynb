{
 "cells": [
  {
   "cell_type": "code",
   "execution_count": null,
   "id": "58383739-984d-4a92-8778-3a0cbe89c93a",
   "metadata": {},
   "outputs": [],
   "source": [
    "import pycisTopic\n",
    "import dill\n",
    "from pycisTopic.diff_features import (\n",
    "    impute_accessibility,\n",
    "    normalize_scores,\n",
    "    find_highly_variable_features,\n",
    "    find_diff_features\n",
    ")\n",
    "import numpy as np\n",
    "\n",
    "from pycisTopic.clust_vis import (\n",
    "    find_clusters,\n",
    "    run_umap,\n",
    "    run_tsne,\n",
    "    plot_metadata,\n",
    "    plot_topic,\n",
    "    cell_topic_heatmap\n",
    ")\n",
    "\n",
    "from pycisTopic.gene_annotation import (\n",
    "    get_chrom_sizes_and_alias_mapping_from_ucsc\n",
    ")\n",
    "\n",
    "import tempfile\n",
    "import os\n",
    "import pyranges as pr\n",
    "from pycisTopic.gene_activity import get_gene_activity"
   ]
  },
  {
   "cell_type": "code",
   "execution_count": null,
   "id": "27f3acf2-bdc7-4f03-b42e-77a0d02de825",
   "metadata": {},
   "outputs": [],
   "source": [
    "lustre_path='/lustre/scratch127/cellgen/cellgeni/tickets/' + os.getcwd().split('/')[4]\n",
    "lustre_path"
   ]
  },
  {
   "cell_type": "code",
   "execution_count": null,
   "id": "b26f79aa-2a1e-4d50-994e-2e22920102ad",
   "metadata": {},
   "outputs": [],
   "source": [
    "with open(lustre_path+\"/work/pycistopic/results_pycistopic_combine/combined_cistopic_object.pkl\", \"rb\") as f:\n",
    "    cistopic = dill.load(f)\n",
    "cistopic"
   ]
  },
  {
   "cell_type": "code",
   "execution_count": null,
   "id": "1d50940c-bd45-4b88-bb2f-2f4cac4ec900",
   "metadata": {},
   "outputs": [],
   "source": [
    "cistopic.cell_data.to_csv(lustre_path+\"/work/pycistopic/results_pycistopic_combine/combined_cistopic_object_cell_data.csv\")"
   ]
  },
  {
   "cell_type": "code",
   "execution_count": null,
   "id": "93cabd1f-2cce-482d-a223-a8b14c030368",
   "metadata": {},
   "outputs": [],
   "source": [
    "# it takes about 5 hours to run this model ub 16 cpu\n",
    "os.environ['MALLET_MEMORY'] = '200G'\n",
    "from pycisTopic.lda_models import run_cgs_models_mallet\n",
    "# Configure path Mallet\n",
    "mallet_path=\"/opt/Mallet/bin/mallet\"\n",
    "tmp_path = tempfile.mkdtemp()#'/tmp'\n",
    "# Run models\n",
    "models=run_cgs_models_mallet(\n",
    "    cistopic,\n",
    "    n_topics=[40],\n",
    "    n_cpu=6,\n",
    "    n_iter=500,\n",
    "    random_state=555,\n",
    "    alpha=50,\n",
    "    alpha_by_topic=True,\n",
    "    eta=0.1,\n",
    "    eta_by_topic=False,\n",
    "    tmp_path=tmp_path,\n",
    "    save_path=tmp_path,\n",
    "    mallet_path=mallet_path,\n",
    ")"
   ]
  },
  {
   "cell_type": "code",
   "execution_count": null,
   "id": "bf6080af-4830-453e-9542-bceb66b1322f",
   "metadata": {},
   "outputs": [],
   "source": [
    "from pycisTopic.lda_models import evaluate_models\n",
    "model = evaluate_models(\n",
    "    models,\n",
    "    select_model = 40,\n",
    "    return_model = True\n",
    ")"
   ]
  },
  {
   "cell_type": "code",
   "execution_count": null,
   "id": "bed6d413-6e2c-4c75-84c5-f291f2f31039",
   "metadata": {},
   "outputs": [],
   "source": [
    "cistopic.add_LDA_model(model)"
   ]
  },
  {
   "cell_type": "code",
   "execution_count": null,
   "id": "0d3ebcd9-fa6b-46c1-ba99-134a7fc550ed",
   "metadata": {},
   "outputs": [],
   "source": [
    "run_umap(\n",
    "    cistopic,\n",
    "    target  = 'cell', scale=True)"
   ]
  },
  {
   "cell_type": "code",
   "execution_count": null,
   "id": "226dfde5-50ec-4556-8e7b-4bbab12fcd50",
   "metadata": {},
   "outputs": [],
   "source": [
    "find_clusters(\n",
    "    cistopic,\n",
    "    target  = 'cell',\n",
    "    k = 10,\n",
    "    res = [0.6, 1.2, 3],\n",
    "    prefix = 'pycisTopic_',\n",
    "    scale = True,\n",
    "    split_pattern = '-'\n",
    ")"
   ]
  },
  {
   "cell_type": "code",
   "execution_count": null,
   "id": "a118cfe7-dba4-47b4-a419-2a388f717c52",
   "metadata": {},
   "outputs": [],
   "source": [
    "import pickle\n",
    "pickle.dump(\n",
    "    cistopic,\n",
    "    open(lustre_path+\"/work/pycistopic/results_pycistopic_combine/combined_cistopic_object_add1.pkl\", \"wb\")\n",
    ")"
   ]
  },
  {
   "cell_type": "code",
   "execution_count": null,
   "id": "92f321e4-e486-4d12-a5f1-a82eefab40ac",
   "metadata": {},
   "outputs": [],
   "source": [
    "plot_metadata(\n",
    "    cistopic_obj,\n",
    "    reduction_name='UMAP',\n",
    "    variables=['Seurat_cell_type', 'pycisTopic_leiden_10_0.6', 'pycisTopic_leiden_10_1.2', 'pycisTopic_leiden_10_3'],\n",
    "    target='cell', num_columns=4,\n",
    "    text_size=10,\n",
    "    dot_size=5)"
   ]
  },
  {
   "cell_type": "markdown",
   "id": "5ba49dc0-2800-4505-85dd-c17416ddc36f",
   "metadata": {},
   "source": [
    "# Gene scores"
   ]
  },
  {
   "cell_type": "code",
   "execution_count": null,
   "id": "4f8bbbc8-7ad6-4eef-bec8-63efa0c4f919",
   "metadata": {},
   "outputs": [],
   "source": [
    "imputed_acc_obj = impute_accessibility(\n",
    "    cistopic,\n",
    "    selected_cells=None,\n",
    "    selected_regions=None,\n",
    "    scale_factor=10**6\n",
    ")"
   ]
  },
  {
   "cell_type": "code",
   "execution_count": null,
   "id": "9fdf4cd7-e279-4e3a-8e56-370ce520c893",
   "metadata": {},
   "outputs": [],
   "source": [
    "chromsizes = get_chrom_sizes_and_alias_mapping_from_ucsc(\n",
    "    ucsc_assembly=\"hg38\",\n",
    "    chrom_sizes_and_alias_tsv_filename=\"hg38.chrom_sizes_and_alias.tsv\",\n",
    ")"
   ]
  },
  {
   "cell_type": "code",
   "execution_count": null,
   "id": "c66a1e51-08f5-444f-902b-02ae7d32d084",
   "metadata": {},
   "outputs": [],
   "source": [
    "chromsizes = pd.read_table(os.path.join(out_dir, \"qc\", \"hg38.chrom_sizes_and_alias.tsv\"))\n",
    "chromsizes.rename({\"# ucsc\": \"Chromosome\", \"length\": \"End\"}, axis = 1, inplace = True)\n",
    "chromsizes[\"Start\"] = 0\n",
    "chromsizes = pr.PyRanges(chromsizes[[\"Chromosome\", \"Start\", \"End\"]])\n",
    "chromsizes"
   ]
  },
  {
   "cell_type": "code",
   "execution_count": null,
   "id": "29770a11-6a0d-4a3a-803a-4c42d16072e7",
   "metadata": {},
   "outputs": [],
   "source": [
    "pr_annotation = pd.read_table(\n",
    "        os.path.join(out_dir, \"qc\", \"../nf-atac/reference/hg38_pycistopic_tss.bed\")\n",
    "    ).rename(\n",
    "        {\"Name\": \"Gene\", \"# Chromosome\": \"Chromosome\"}, axis = 1)\n",
    "pr_annotation[\"Transcription_Start_Site\"] = pr_annotation[\"Start\"]\n",
    "pr_annotation = pr.PyRanges(pr_annotation)\n",
    "pr_annotation"
   ]
  },
  {
   "cell_type": "code",
   "execution_count": null,
   "id": "8df8aa2a-e34f-4f13-86c8-5c99b4d44e83",
   "metadata": {},
   "outputs": [],
   "source": [
    "gene_act, weigths = get_gene_activity(\n",
    "    imputed_acc_obj,\n",
    "    pr_annotation,\n",
    "    chromsizes,\n",
    "    use_gene_boundaries=True, # Whether to use the whole search space or stop when encountering another gene\n",
    "    upstream=[1000, 100000], # Search space upstream. The minimum means that even if there is a gene right next to it\n",
    "                             # these bp will be taken (1kbp here)\n",
    "    downstream=[1000,100000], # Search space downstream\n",
    "    distance_weight=True, # Whether to add a distance weight (an exponential function, the weight will decrease with distance)\n",
    "    decay_rate=1, # Exponent for the distance exponential funciton (the higher the faster will be the decrease)\n",
    "    extend_gene_body_upstream=10000, # Number of bp upstream immune to the distance weight (their value will be maximum for\n",
    "                          #this weight)\n",
    "    extend_gene_body_downstream=500, # Number of bp downstream immune to the distance weight\n",
    "    gene_size_weight=False, # Whether to add a weights based on the length of the gene\n",
    "    gene_size_scale_factor='median', # Dividend to calculate the gene size weigth. Default is the median value of all genes\n",
    "                          #in the genome\n",
    "    remove_promoters=False, # Whether to remove promoters when computing gene activity scores\n",
    "    average_scores=True, # Whether to divide by the total number of region assigned to a gene when calculating the gene\n",
    "                          #activity score\n",
    "    scale_factor=1, # Value to multiply for the final gene activity matrix\n",
    "    extend_tss=[10,10], # Space to consider a promoter\n",
    "    gini_weight = True, # Whether to add a gini index weigth. The more unique the region is, the higher this weight will be\n",
    "    return_weights= True, # Whether to return the final weights\n",
    "    project='Gene_activity') # Project name for the gene activity object"
   ]
  },
  {
   "cell_type": "markdown",
   "id": "af7d40ee-e370-40dd-858b-664d76edcd42",
   "metadata": {},
   "source": [
    "# Differentially Accessible Regions"
   ]
  },
  {
   "cell_type": "code",
   "execution_count": 10,
   "id": "e04d9c4b-21e3-4e7b-bd74-6d05fe272deb",
   "metadata": {},
   "outputs": [
    {
     "name": "stdout",
     "output_type": "stream",
     "text": [
      "2025-05-19 14:18:28,023 cisTopic     INFO     Normalizing imputed data\n",
      "2025-05-19 14:18:28,025 cisTopic     INFO     Done!\n"
     ]
    },
    {
     "ename": "UnboundLocalError",
     "evalue": "cannot access local variable 'output' where it is not associated with a value",
     "output_type": "error",
     "traceback": [
      "\u001b[0;31m---------------------------------------------------------------------------\u001b[0m",
      "\u001b[0;31mUnboundLocalError\u001b[0m                         Traceback (most recent call last)",
      "Cell \u001b[0;32mIn[10], line 1\u001b[0m\n\u001b[0;32m----> 1\u001b[0m normalized_imputed_acc_obj \u001b[38;5;241m=\u001b[39m \u001b[43mnormalize_scores\u001b[49m\u001b[43m(\u001b[49m\u001b[43mcistopic\u001b[49m\u001b[43m,\u001b[49m\u001b[43m \u001b[49m\u001b[43mscale_factor\u001b[49m\u001b[38;5;241;43m=\u001b[39;49m\u001b[38;5;241;43m10\u001b[39;49m\u001b[38;5;241;43m*\u001b[39;49m\u001b[38;5;241;43m*\u001b[39;49m\u001b[38;5;241;43m4\u001b[39;49m\u001b[43m)\u001b[49m\n",
      "File \u001b[0;32m/env/lib/python3.11/site-packages/pycisTopic/diff_features.py:574\u001b[0m, in \u001b[0;36mnormalize_scores\u001b[0;34m(imputed_acc, scale_factor)\u001b[0m\n\u001b[1;32m    565\u001b[0m     output \u001b[38;5;241m=\u001b[39m pd\u001b[38;5;241m.\u001b[39mDataFrame(\n\u001b[1;32m    566\u001b[0m         calculate_normalized_scores(\n\u001b[1;32m    567\u001b[0m             imputed_acc\u001b[38;5;241m=\u001b[39mimputed_acc\u001b[38;5;241m.\u001b[39mto_numpy(),\n\u001b[0;32m   (...)\u001b[0m\n\u001b[1;32m    571\u001b[0m         columns\u001b[38;5;241m=\u001b[39mimputed_acc\u001b[38;5;241m.\u001b[39mcolumns,\n\u001b[1;32m    572\u001b[0m     )\n\u001b[1;32m    573\u001b[0m log\u001b[38;5;241m.\u001b[39minfo(\u001b[38;5;124m\"\u001b[39m\u001b[38;5;124mDone!\u001b[39m\u001b[38;5;124m\"\u001b[39m)\n\u001b[0;32m--> 574\u001b[0m \u001b[38;5;28;01mreturn\u001b[39;00m \u001b[43moutput\u001b[49m\n",
      "\u001b[0;31mUnboundLocalError\u001b[0m: cannot access local variable 'output' where it is not associated with a value"
     ]
    }
   ],
   "source": [
    "normalized_imputed_acc_obj = normalize_scores(cistopic, scale_factor=10**4)"
   ]
  },
  {
   "cell_type": "code",
   "execution_count": 6,
   "id": "1a02394c-84ed-4ded-a818-bdb6aa116c9d",
   "metadata": {},
   "outputs": [
    {
     "ename": "AttributeError",
     "evalue": "'CistopicObject' object has no attribute 'mtx'",
     "output_type": "error",
     "traceback": [
      "\u001b[0;31m---------------------------------------------------------------------------\u001b[0m",
      "\u001b[0;31mAttributeError\u001b[0m                            Traceback (most recent call last)",
      "Cell \u001b[0;32mIn[6], line 1\u001b[0m\n\u001b[0;32m----> 1\u001b[0m variable_regions \u001b[38;5;241m=\u001b[39m \u001b[43mfind_highly_variable_features\u001b[49m\u001b[43m(\u001b[49m\n\u001b[1;32m      2\u001b[0m \u001b[43m    \u001b[49m\u001b[43mcistopic\u001b[49m\u001b[43m,\u001b[49m\n\u001b[1;32m      3\u001b[0m \u001b[43m    \u001b[49m\u001b[43mmin_disp\u001b[49m\u001b[43m \u001b[49m\u001b[38;5;241;43m=\u001b[39;49m\u001b[43m \u001b[49m\u001b[38;5;241;43m0.05\u001b[39;49m\u001b[43m,\u001b[49m\n\u001b[1;32m      4\u001b[0m \u001b[43m    \u001b[49m\u001b[43mmin_mean\u001b[49m\u001b[43m \u001b[49m\u001b[38;5;241;43m=\u001b[39;49m\u001b[43m \u001b[49m\u001b[38;5;241;43m0.0125\u001b[39;49m\u001b[43m,\u001b[49m\n\u001b[1;32m      5\u001b[0m \u001b[43m    \u001b[49m\u001b[43mmax_mean\u001b[49m\u001b[43m \u001b[49m\u001b[38;5;241;43m=\u001b[39;49m\u001b[43m \u001b[49m\u001b[38;5;241;43m3\u001b[39;49m\u001b[43m,\u001b[49m\n\u001b[1;32m      6\u001b[0m \u001b[43m    \u001b[49m\u001b[43mmax_disp\u001b[49m\u001b[43m \u001b[49m\u001b[38;5;241;43m=\u001b[39;49m\u001b[43m \u001b[49m\u001b[43mnp\u001b[49m\u001b[38;5;241;43m.\u001b[39;49m\u001b[43minf\u001b[49m\u001b[43m,\u001b[49m\n\u001b[1;32m      7\u001b[0m \u001b[43m    \u001b[49m\u001b[43mn_bins\u001b[49m\u001b[38;5;241;43m=\u001b[39;49m\u001b[38;5;241;43m20\u001b[39;49m\u001b[43m,\u001b[49m\n\u001b[1;32m      8\u001b[0m \u001b[43m    \u001b[49m\u001b[43mn_top_features\u001b[49m\u001b[38;5;241;43m=\u001b[39;49m\u001b[38;5;28;43;01mNone\u001b[39;49;00m\u001b[43m,\u001b[49m\n\u001b[1;32m      9\u001b[0m \u001b[43m    \u001b[49m\u001b[43mplot\u001b[49m\u001b[38;5;241;43m=\u001b[39;49m\u001b[38;5;28;43;01mTrue\u001b[39;49;00m\n\u001b[1;32m     10\u001b[0m \u001b[43m)\u001b[49m\n",
      "File \u001b[0;32m/env/lib/python3.11/site-packages/pycisTopic/diff_features.py:629\u001b[0m, in \u001b[0;36mfind_highly_variable_features\u001b[0;34m(input_mat, min_disp, min_mean, max_disp, max_mean, n_bins, n_top_features, plot, save)\u001b[0m\n\u001b[1;32m    627\u001b[0m     features \u001b[38;5;241m=\u001b[39m input_mat\u001b[38;5;241m.\u001b[39mindex\u001b[38;5;241m.\u001b[39mtolist()\n\u001b[1;32m    628\u001b[0m \u001b[38;5;28;01melse\u001b[39;00m:\n\u001b[0;32m--> 629\u001b[0m     mat \u001b[38;5;241m=\u001b[39m \u001b[43minput_mat\u001b[49m\u001b[38;5;241;43m.\u001b[39;49m\u001b[43mmtx\u001b[49m\n\u001b[1;32m    630\u001b[0m     features \u001b[38;5;241m=\u001b[39m input_mat\u001b[38;5;241m.\u001b[39mfeature_names\n\u001b[1;32m    632\u001b[0m \u001b[38;5;28;01mif\u001b[39;00m sparse\u001b[38;5;241m.\u001b[39missparse(mat):\n",
      "\u001b[0;31mAttributeError\u001b[0m: 'CistopicObject' object has no attribute 'mtx'"
     ]
    }
   ],
   "source": [
    "variable_regions = find_highly_variable_features(\n",
    "    cistopic,\n",
    "    min_disp = 0.05,\n",
    "    min_mean = 0.0125,\n",
    "    max_mean = 3,\n",
    "    max_disp = np.inf,\n",
    "    n_bins=20,\n",
    "    n_top_features=None,\n",
    "    plot=True\n",
    ")"
   ]
  },
  {
   "cell_type": "code",
   "execution_count": 9,
   "id": "d22c327c-070f-4cfe-b651-99de676c7005",
   "metadata": {},
   "outputs": [
    {
     "ename": "AttributeError",
     "evalue": "'CistopicObject' object has no attribute 'mtx'",
     "output_type": "error",
     "traceback": [
      "\u001b[0;31m---------------------------------------------------------------------------\u001b[0m",
      "\u001b[0;31mAttributeError\u001b[0m                            Traceback (most recent call last)",
      "Cell \u001b[0;32mIn[9], line 1\u001b[0m\n\u001b[0;32m----> 1\u001b[0m \u001b[43mcistopic\u001b[49m\u001b[38;5;241;43m.\u001b[39;49m\u001b[43mmtx\u001b[49m\n",
      "\u001b[0;31mAttributeError\u001b[0m: 'CistopicObject' object has no attribute 'mtx'"
     ]
    }
   ],
   "source": [
    "cistopic.mtx"
   ]
  }
 ],
 "metadata": {
  "kernelspec": {
   "display_name": "Python 3 (ipykernel)",
   "language": "python",
   "name": "python3"
  },
  "language_info": {
   "codemirror_mode": {
    "name": "ipython",
    "version": 3
   },
   "file_extension": ".py",
   "mimetype": "text/x-python",
   "name": "python",
   "nbconvert_exporter": "python",
   "pygments_lexer": "ipython3",
   "version": "3.11.10"
  }
 },
 "nbformat": 4,
 "nbformat_minor": 5
}
